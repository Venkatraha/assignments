{
 "cells": [
  {
   "cell_type": "code",
   "execution_count": 1,
   "id": "4809477e",
   "metadata": {},
   "outputs": [
    {
     "name": "stdout",
     "output_type": "stream",
     "text": [
      "ineruon \n",
      "ineruon ineruon \n",
      "ineruon ineruon ineruon \n",
      "ineruon ineruon ineruon ineruon \n"
     ]
    }
   ],
   "source": [
    "#Q1\n",
    "\n",
    "for i in range(4):\n",
    "    for j in range(i+1):\n",
    "        print('ineruon ',end='')\n",
    "    print()"
   ]
  },
  {
   "cell_type": "code",
   "execution_count": 2,
   "id": "e3ba5c48",
   "metadata": {},
   "outputs": [
    {
     "name": "stdout",
     "output_type": "stream",
     "text": [
      "        ineuron  \n",
      "    ineuron  ineuron  \n",
      "ineuron  ineuron  ineuron  \n",
      "    ineuron  ineuron  \n",
      "        ineuron  \n"
     ]
    }
   ],
   "source": [
    "#Q2\n",
    "\n",
    "for i in range(3):\n",
    "    for j in range(2-i):\n",
    "        print('    ',end='')\n",
    "    for k in range(i+1):\n",
    "        print('ineuron  ',end='')\n",
    "    print()\n",
    "\n",
    "for x in range(2):\n",
    "    for y in range(x+1):\n",
    "        print('    ',end='')\n",
    "    for z in range(2-x):\n",
    "        print('ineuron  ',end='')\n",
    "    print()\n",
    "    "
   ]
  },
  {
   "cell_type": "code",
   "execution_count": 3,
   "id": "bb877130",
   "metadata": {},
   "outputs": [],
   "source": [
    "l = [[1,2,3,4] , (2,3,4,5,6) , (3,4,5,6,7) , set([23,4,5,45,4,4,5,45,45,4,5]) , {'k1' :\"sudh\" , \"k2\" : \"ineuron\",\"k3\":\n",
    "            \"kumar\" , 3:6 , 7:8} , [\"ineuron\" , \"data science \"]]"
   ]
  },
  {
   "cell_type": "code",
   "execution_count": 4,
   "id": "d86dceb0",
   "metadata": {},
   "outputs": [
    {
     "name": "stdout",
     "output_type": "stream",
     "text": [
      "[1, 2, 3, 4]\n",
      "['ineuron', 'data science ']\n"
     ]
    }
   ],
   "source": [
    "#Q3 Try to extract all the list entity\n",
    "\n",
    "for i in l:\n",
    "    if type(i)==list:\n",
    "        print(i)\n"
   ]
  },
  {
   "cell_type": "code",
   "execution_count": 5,
   "id": "4be9b387",
   "metadata": {},
   "outputs": [
    {
     "name": "stdout",
     "output_type": "stream",
     "text": [
      "{'k1': 'sudh', 'k2': 'ineuron', 'k3': 'kumar', 3: 6, 7: 8}\n"
     ]
    }
   ],
   "source": [
    "#Q4 Try to extract all the dict enteties\n",
    "\n",
    "for i in l:\n",
    "    if type(i)==dict:\n",
    "        print(i)\n",
    "        \n"
   ]
  },
  {
   "cell_type": "code",
   "execution_count": 6,
   "id": "cb634d18",
   "metadata": {},
   "outputs": [
    {
     "name": "stdout",
     "output_type": "stream",
     "text": [
      "(2, 3, 4, 5, 6)\n",
      "(3, 4, 5, 6, 7)\n"
     ]
    }
   ],
   "source": [
    "#Q5 Try to extract all the tuples entities\n",
    "\n",
    "for i in l:\n",
    "    if type(i)==tuple:\n",
    "        print(i)"
   ]
  },
  {
   "cell_type": "code",
   "execution_count": 29,
   "id": "7eee2351",
   "metadata": {},
   "outputs": [
    {
     "name": "stdout",
     "output_type": "stream",
     "text": [
      "1\n",
      "2\n",
      "3\n",
      "4\n",
      "2\n",
      "3\n",
      "4\n",
      "5\n",
      "6\n",
      "3\n",
      "4\n",
      "5\n",
      "6\n",
      "7\n",
      "45\n",
      "4\n",
      "5\n",
      "23\n",
      "3\n",
      "6\n",
      "7\n",
      "8\n"
     ]
    }
   ],
   "source": [
    "#Q6 Try to extract all the numerical data it may b a part of dict key and values \n",
    "\n",
    "for i in l:\n",
    "    for j in i:\n",
    "        if type(j)==int:\n",
    "            print(j)\n",
    "        if type(i)==dict:\n",
    "            if type(i[j])==int:\n",
    "                print(i[j])\n",
    "        "
   ]
  },
  {
   "cell_type": "code",
   "execution_count": 34,
   "id": "307da5d1",
   "metadata": {},
   "outputs": [
    {
     "data": {
      "text/plain": [
       "156"
      ]
     },
     "execution_count": 34,
     "metadata": {},
     "output_type": "execute_result"
    }
   ],
   "source": [
    "#Q7 Try to give summation of all the numeric data \n",
    "\n",
    "l1=[]\n",
    "\n",
    "for i in l:\n",
    "    for j in i:\n",
    "        if type(j)==int:\n",
    "            l1.append(j)\n",
    "        if type(i)==dict:\n",
    "            if type(i[j])==int:\n",
    "                l1.append(i[j])   \n",
    "b=sum(l1)\n",
    "b\n"
   ]
  },
  {
   "cell_type": "code",
   "execution_count": 54,
   "id": "3d9f49fe",
   "metadata": {},
   "outputs": [
    {
     "data": {
      "text/plain": [
       "[2, 4, 2, 4, 6, 4, 6, 4, 6, 8]"
      ]
     },
     "execution_count": 54,
     "metadata": {},
     "output_type": "execute_result"
    }
   ],
   "source": [
    "#Q8 Try to filter out all the odd values out all numeric data which is a part of a list \n",
    "\n",
    "l1=[]\n",
    "\n",
    "for i in l:\n",
    "    for j in i:\n",
    "        if type(j)==int:\n",
    "            l1.append(j)\n",
    "        if type(i)==dict:\n",
    "            if type(i[j])==int:\n",
    "                l1.append(i[j]) \n",
    "l2=[]\n",
    "for k in l1:\n",
    "    if (k%2)==0:\n",
    "        l2.append(k)\n",
    "                \n",
    "l2\n",
    "    \n",
    "        \n"
   ]
  },
  {
   "cell_type": "code",
   "execution_count": 74,
   "id": "b2ecded4",
   "metadata": {},
   "outputs": [
    {
     "data": {
      "text/plain": [
       "('ineuron', 'ineuron')"
      ]
     },
     "execution_count": 74,
     "metadata": {},
     "output_type": "execute_result"
    }
   ],
   "source": [
    "#Q9 Try to extract \"ineruon\" out of this data\n",
    "\n",
    "l[4]['k2'] , l[5][0]"
   ]
  },
  {
   "cell_type": "code",
   "execution_count": 91,
   "id": "aaf65a31",
   "metadata": {},
   "outputs": [
    {
     "name": "stdout",
     "output_type": "stream",
     "text": [
      "1 : 1\n",
      "2 : 2\n",
      "3 : 4\n",
      "4 : 4\n",
      "5 : 3\n",
      "6 : 3\n",
      "7 : 2\n",
      "sudh : 1\n",
      "ineuron : 2\n",
      "kumar : 1\n",
      "8 : 1\n",
      "k1 : 1\n",
      "45 : 1\n",
      "k3 : 1\n",
      "23 : 1\n",
      "data science  : 1\n",
      "k2 : 1\n"
     ]
    }
   ],
   "source": [
    "#Q10 Try to find out a number of occurances of all the data \n",
    "v=[]\n",
    "for i in l:\n",
    "    for j in i:\n",
    "        v.append(j)\n",
    "        if type(i)==dict:\n",
    "            v.append(i[j])\n",
    "            \n",
    "for n in set(v):\n",
    "    print(n,':',v.count(n))\n"
   ]
  },
  {
   "cell_type": "code",
   "execution_count": 129,
   "id": "bc732ee7",
   "metadata": {},
   "outputs": [
    {
     "name": "stdout",
     "output_type": "stream",
     "text": [
      "5\n"
     ]
    }
   ],
   "source": [
    "#Q11 Try to find out number of keys in dict element\n",
    "\n",
    "for i in l:\n",
    "    if type(i)==dict:\n",
    "        print(len(i.keys()))\n",
    " \n",
    "    \n",
    "\n",
    "    \n",
    "        "
   ]
  },
  {
   "cell_type": "code",
   "execution_count": 133,
   "id": "1eb5b487",
   "metadata": {},
   "outputs": [
    {
     "name": "stdout",
     "output_type": "stream",
     "text": [
      "k1\n",
      "sudh\n",
      "k2\n",
      "ineuron\n",
      "k3\n",
      "kumar\n",
      "ineuron\n",
      "data science \n"
     ]
    }
   ],
   "source": [
    "#Q12 Try to filter out all the string data \n",
    "\n",
    "for i in l:\n",
    "    for j in i:\n",
    "        if type(j)==str:\n",
    "            print(j)\n",
    "        if type(i)==dict:\n",
    "            if type(i[j])==str:\n",
    "                print(i[j])\n",
    "            \n",
    "    "
   ]
  },
  {
   "cell_type": "code",
   "execution_count": 2,
   "id": "97f5ec75",
   "metadata": {},
   "outputs": [],
   "source": [
    "l = [[1,2,3,4] , (2,3,4,5,6) , (3,4,5,6,7) , set([23,4,5,45,4,4,5,45,45,4,5]) , {'k1' :\"sudh\" , \"k2\" : \"ineuron\",\"k3\":\n",
    "            \"kumar\" , 3:6 , 7:8} , [\"ineuron\" , \"data science \"]]\n"
   ]
  },
  {
   "cell_type": "code",
   "execution_count": 157,
   "id": "76469278",
   "metadata": {},
   "outputs": [],
   "source": [
    "# Q13 Try to Find  out alphanum in data"
   ]
  },
  {
   "cell_type": "code",
   "execution_count": 38,
   "id": "635f005b",
   "metadata": {},
   "outputs": [
    {
     "name": "stdout",
     "output_type": "stream",
     "text": [
      "1\n",
      "2\n",
      "3\n",
      "4\n",
      "2\n",
      "3\n",
      "4\n",
      "5\n",
      "6\n",
      "3\n",
      "4\n",
      "5\n",
      "6\n",
      "7\n",
      "45\n",
      "4\n",
      "5\n",
      "23\n",
      "k1\n",
      "k2\n",
      "k3\n",
      "3\n",
      "7\n",
      "sudh\n",
      "ineuron\n",
      "kumar\n",
      "6\n",
      "8\n",
      "ineuron\n"
     ]
    }
   ],
   "source": [
    "for i in l:\n",
    "    if type(i)==int:\n",
    "        print(i)\n",
    "    for j in i:\n",
    "        if type(j)==int:\n",
    "            print(j)\n",
    "        if type(j)==str:\n",
    "            if j.isalnum()==True:\n",
    "                print(j)\n",
    "    if  type(i)==dict:\n",
    "        a=list(i.values())\n",
    "        for z in a:\n",
    "            if type(z)==int:\n",
    "                print(z)\n",
    "            if type(z)==str:\n",
    "                if z.isalnum()==True:\n",
    "                    print(z)\n",
    "        \n",
    "            \n",
    "            \n",
    "        "
   ]
  },
  {
   "cell_type": "code",
   "execution_count": 83,
   "id": "82f88b0e",
   "metadata": {},
   "outputs": [
    {
     "name": "stdout",
     "output_type": "stream",
     "text": [
      "multiplication of numbers in list is  24\n",
      "multiplication of numbers in tuple is  1814400\n",
      "multiplication of numbers in set is  20700\n",
      "multiplication of numbers in set is  1008\n"
     ]
    }
   ],
   "source": [
    "#Q14 Try to find out multiplication of all numeric value in  the individual collection inside dataset \n",
    "\n",
    "m=1\n",
    "for i in l:\n",
    "    if type(i)==list:\n",
    "        for j in i:\n",
    "            if type(j)==int:\n",
    "                m=m*j\n",
    "            \n",
    "print('multiplication of numbers in list is ',m)\n",
    "\n",
    "n=1\n",
    "for k in l:\n",
    "    if type(k)==tuple:\n",
    "        for p in k:\n",
    "            if type(p)==int:\n",
    "                n=n*p\n",
    "print('multiplication of numbers in tuple is ',n)\n",
    "\n",
    "q=1\n",
    "for e in l:\n",
    "    if type(e)==set:\n",
    "        for f in e:\n",
    "            if type(f)==int:\n",
    "                q=q*f\n",
    "print('multiplication of numbers in set is ',q)\n",
    "\n",
    "a=1\n",
    "for g in l:\n",
    "    if type(g)==dict:\n",
    "        b=list(g.items())\n",
    "        for h in b:\n",
    "            for w in h:\n",
    "                if type(w)==int:\n",
    "                    a=a*w\n",
    "                \n",
    "print('multiplication of numbers in set is ',a)\n",
    "                \n",
    "\n",
    "    \n",
    "                \n",
    "    "
   ]
  },
  {
   "cell_type": "code",
   "execution_count": 15,
   "id": "37cc17ad",
   "metadata": {},
   "outputs": [
    {
     "data": {
      "text/plain": [
       "[1,\n",
       " 2,\n",
       " 3,\n",
       " 4,\n",
       " 2,\n",
       " 3,\n",
       " 4,\n",
       " 5,\n",
       " 6,\n",
       " 3,\n",
       " 4,\n",
       " 5,\n",
       " 6,\n",
       " 7,\n",
       " 45,\n",
       " 4,\n",
       " 5,\n",
       " 23,\n",
       " 'ineuron',\n",
       " 'data science ',\n",
       " 'k1',\n",
       " 'sudh',\n",
       " 'k2',\n",
       " 'ineuron',\n",
       " 'k3',\n",
       " 'kumar',\n",
       " 3,\n",
       " 6,\n",
       " 7,\n",
       " 8]"
      ]
     },
     "execution_count": 15,
     "metadata": {},
     "output_type": "execute_result"
    }
   ],
   "source": [
    "#Q15 Try to unwrape all the collection inside collection and create a flat list \n",
    "\n",
    "l5=[]\n",
    "for i in l:\n",
    "    for j in i:\n",
    "        if type(i)==int:\n",
    "            l5.append(i)\n",
    "        elif type(i)==list or type(i)==tuple or type(i)==set:\n",
    "            l5.append(j)\n",
    "for r in l:\n",
    "    if type(r)==dict:\n",
    "        b=list(r.items())\n",
    "        for z in b:\n",
    "            for y in z:\n",
    "                l5.append(y)\n",
    "\n",
    "l5               \n",
    "\n"
   ]
  },
  {
   "cell_type": "code",
   "execution_count": null,
   "id": "7aeca98f",
   "metadata": {},
   "outputs": [],
   "source": []
  },
  {
   "cell_type": "code",
   "execution_count": null,
   "id": "c11ee080",
   "metadata": {},
   "outputs": [],
   "source": []
  }
 ],
 "metadata": {
  "kernelspec": {
   "display_name": "Python 3 (ipykernel)",
   "language": "python",
   "name": "python3"
  },
  "language_info": {
   "codemirror_mode": {
    "name": "ipython",
    "version": 3
   },
   "file_extension": ".py",
   "mimetype": "text/x-python",
   "name": "python",
   "nbconvert_exporter": "python",
   "pygments_lexer": "ipython3",
   "version": "3.9.7"
  }
 },
 "nbformat": 4,
 "nbformat_minor": 5
}
