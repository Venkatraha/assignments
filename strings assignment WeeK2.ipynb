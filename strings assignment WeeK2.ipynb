{
 "cells": [
  {
   "cell_type": "code",
   "execution_count": 1,
   "id": "7936817c",
   "metadata": {},
   "outputs": [],
   "source": [
    "s = \"this is My First Python programming class and i am learNING python string and its function\""
   ]
  },
  {
   "cell_type": "code",
   "execution_count": null,
   "id": "ee23e58f",
   "metadata": {},
   "outputs": [],
   "source": [
    "# Q1 . Try to extract data from index one to index 300 with a jump of 3 "
   ]
  },
  {
   "cell_type": "code",
   "execution_count": 2,
   "id": "5abb0cc2",
   "metadata": {},
   "outputs": [
    {
     "data": {
      "text/plain": [
       "'h   r tnrrmglsnimeNGyosi dtfco'"
      ]
     },
     "execution_count": 2,
     "metadata": {},
     "output_type": "execute_result"
    }
   ],
   "source": [
    "s[1:301:3]"
   ]
  },
  {
   "cell_type": "code",
   "execution_count": null,
   "id": "23b3346d",
   "metadata": {},
   "outputs": [],
   "source": [
    "# Q2. Try to reverse a string without using reverse function "
   ]
  },
  {
   "cell_type": "code",
   "execution_count": 3,
   "id": "d8267f42",
   "metadata": {},
   "outputs": [
    {
     "data": {
      "text/plain": [
       "'noitcnuf sti dna gnirts nohtyp GNINrael ma i dna ssalc gnimmargorp nohtyP tsriF yM si siht'"
      ]
     },
     "execution_count": 3,
     "metadata": {},
     "output_type": "execute_result"
    }
   ],
   "source": [
    "s[::-1]"
   ]
  },
  {
   "cell_type": "code",
   "execution_count": null,
   "id": "4be70550",
   "metadata": {},
   "outputs": [],
   "source": [
    "# Q3. Try to split a string after conversion of entire string in uppercase "
   ]
  },
  {
   "cell_type": "code",
   "execution_count": 5,
   "id": "b661a5a6",
   "metadata": {},
   "outputs": [
    {
     "data": {
      "text/plain": [
       "['THIS',\n",
       " 'IS',\n",
       " 'MY',\n",
       " 'FIRST',\n",
       " 'PYTHON',\n",
       " 'PROGRAMMING',\n",
       " 'CLASS',\n",
       " 'AND',\n",
       " 'I',\n",
       " 'AM',\n",
       " 'LEARNING',\n",
       " 'PYTHON',\n",
       " 'STRING',\n",
       " 'AND',\n",
       " 'ITS',\n",
       " 'FUNCTION']"
      ]
     },
     "execution_count": 5,
     "metadata": {},
     "output_type": "execute_result"
    }
   ],
   "source": [
    "s= s.upper()\n",
    "s.split(' ')"
   ]
  },
  {
   "cell_type": "code",
   "execution_count": null,
   "id": "5dbdb9dc",
   "metadata": {},
   "outputs": [],
   "source": [
    "# Q4. try to convert the whole string into lower case "
   ]
  },
  {
   "cell_type": "code",
   "execution_count": 7,
   "id": "f752b513",
   "metadata": {},
   "outputs": [
    {
     "data": {
      "text/plain": [
       "'this is my first python programming class and i am learning python string and its function'"
      ]
     },
     "execution_count": 7,
     "metadata": {},
     "output_type": "execute_result"
    }
   ],
   "source": [
    "s= s.lower()\n",
    "s"
   ]
  },
  {
   "cell_type": "code",
   "execution_count": null,
   "id": "7bfb26ea",
   "metadata": {},
   "outputs": [],
   "source": [
    "# Q5. Try to capitalize the whole string "
   ]
  },
  {
   "cell_type": "code",
   "execution_count": 8,
   "id": "d6ba2ee5",
   "metadata": {},
   "outputs": [
    {
     "data": {
      "text/plain": [
       "'This is my first python programming class and i am learning python string and its function'"
      ]
     },
     "execution_count": 8,
     "metadata": {},
     "output_type": "execute_result"
    }
   ],
   "source": [
    "s=s.capitalize()\n",
    "s"
   ]
  },
  {
   "cell_type": "code",
   "execution_count": null,
   "id": "d3de2d64",
   "metadata": {},
   "outputs": [],
   "source": [
    "#Q6. Write a diference between isalnum() and isalpha()"
   ]
  },
  {
   "cell_type": "code",
   "execution_count": null,
   "id": "f27c41c1",
   "metadata": {},
   "outputs": [],
   "source": [
    "# isalnum() - will print true if the string has only alphbets or number. will return false if there are non alphabetic or non numeric like space( ), question mark(?) etc. \n",
    "#\"ab123\" - will be true\n",
    "#\"ab 123\" - will be false as we have space\n",
    "\n",
    "# isalpha() - will print true if the string has only alphabets. will print false if there is any character other than alphabet like 1,?,#\n",
    "#\"abc\" - will be true\n",
    "#\"abc2\" - will be false"
   ]
  },
  {
   "cell_type": "code",
   "execution_count": null,
   "id": "70a12de6",
   "metadata": {},
   "outputs": [],
   "source": [
    "#Q7. Try to give an example of expand tab"
   ]
  },
  {
   "cell_type": "code",
   "execution_count": 9,
   "id": "36ec83aa",
   "metadata": {},
   "outputs": [],
   "source": [
    "h =\"rama\\tis\\tgood\\tboy\""
   ]
  },
  {
   "cell_type": "code",
   "execution_count": 10,
   "id": "64ab8b54",
   "metadata": {},
   "outputs": [
    {
     "data": {
      "text/plain": [
       "'rama    is      good    boy'"
      ]
     },
     "execution_count": 10,
     "metadata": {},
     "output_type": "execute_result"
    }
   ],
   "source": [
    "h.expandtabs()"
   ]
  },
  {
   "cell_type": "code",
   "execution_count": null,
   "id": "b1ef068e",
   "metadata": {},
   "outputs": [],
   "source": [
    "#Q8. Give an example of strip , lstrip and rstrip "
   ]
  },
  {
   "cell_type": "code",
   "execution_count": 11,
   "id": "65924cc2",
   "metadata": {},
   "outputs": [],
   "source": [
    "y ='   my name is venkat   '"
   ]
  },
  {
   "cell_type": "code",
   "execution_count": 14,
   "id": "95d94727",
   "metadata": {},
   "outputs": [
    {
     "data": {
      "text/plain": [
       "'my name is venkat'"
      ]
     },
     "execution_count": 14,
     "metadata": {},
     "output_type": "execute_result"
    }
   ],
   "source": [
    "y.strip()\n"
   ]
  },
  {
   "cell_type": "code",
   "execution_count": 15,
   "id": "e1a21b6b",
   "metadata": {},
   "outputs": [
    {
     "data": {
      "text/plain": [
       "'my name is venkat   '"
      ]
     },
     "execution_count": 15,
     "metadata": {},
     "output_type": "execute_result"
    }
   ],
   "source": [
    "y.lstrip()\n"
   ]
  },
  {
   "cell_type": "code",
   "execution_count": 16,
   "id": "47301647",
   "metadata": {},
   "outputs": [
    {
     "data": {
      "text/plain": [
       "'   my name is venkat'"
      ]
     },
     "execution_count": 16,
     "metadata": {},
     "output_type": "execute_result"
    }
   ],
   "source": [
    "y.rstrip()"
   ]
  },
  {
   "cell_type": "code",
   "execution_count": null,
   "id": "a4412a76",
   "metadata": {},
   "outputs": [],
   "source": [
    "#Q9. Replace a string charecter by another charector by taking your own example \n",
    "\"sudhanshu\""
   ]
  },
  {
   "cell_type": "code",
   "execution_count": 18,
   "id": "bff93082",
   "metadata": {},
   "outputs": [],
   "source": [
    "s = \"sudhanshu\""
   ]
  },
  {
   "cell_type": "code",
   "execution_count": 23,
   "id": "32435543",
   "metadata": {},
   "outputs": [
    {
     "data": {
      "text/plain": [
       "'sudtanstu'"
      ]
     },
     "execution_count": 23,
     "metadata": {},
     "output_type": "execute_result"
    }
   ],
   "source": [
    "s.replace('h','t')"
   ]
  },
  {
   "cell_type": "code",
   "execution_count": null,
   "id": "40cc3632",
   "metadata": {},
   "outputs": [],
   "source": [
    "#Q10. Try  to give a defination of string center function with an exmple "
   ]
  },
  {
   "cell_type": "code",
   "execution_count": 24,
   "id": "fa3f698b",
   "metadata": {},
   "outputs": [],
   "source": [
    "#string centre function will align the string in centre with difined characters at both ends in a given length.example below"
   ]
  },
  {
   "cell_type": "code",
   "execution_count": 26,
   "id": "7ed34aca",
   "metadata": {},
   "outputs": [],
   "source": [
    "b = 'boy'"
   ]
  },
  {
   "cell_type": "code",
   "execution_count": 29,
   "id": "15f0e1e7",
   "metadata": {},
   "outputs": [
    {
     "data": {
      "text/plain": [
       "'@@@boy@@@@'"
      ]
     },
     "execution_count": 29,
     "metadata": {},
     "output_type": "execute_result"
    }
   ],
   "source": [
    "b.center(10,'@') # 10 is the total lenght, @ is character which we want at both side of string "
   ]
  },
  {
   "cell_type": "code",
   "execution_count": null,
   "id": "8d31ac71",
   "metadata": {},
   "outputs": [],
   "source": [
    "#Q11. Write your own definition of compiler and interpretor without copy paste form internet in your own language"
   ]
  },
  {
   "cell_type": "code",
   "execution_count": null,
   "id": "00ab609b",
   "metadata": {},
   "outputs": [],
   "source": [
    "#compiler executes the entire code at once but interpretor executes code line by line. \n",
    "#Because of this with interpretor we can easily find errors in interpretor compared to compiler. \n",
    "#compiler is fast compared to interpretor. Interpretor is easy to work. \n",
    "#For compiler we don't need the source code once the code is executed and its saved. \n",
    "#But for interpreter we need the source code to open the work which is already done. \n",
    "#examples of compiler - C,C++. examples of interpretor - Python,matlab "
   ]
  },
  {
   "cell_type": "code",
   "execution_count": null,
   "id": "5d4896d4",
   "metadata": {},
   "outputs": [],
   "source": [
    "#Q12. Python is a interpreted or compiled language give a clear ans with your understanding "
   ]
  },
  {
   "cell_type": "code",
   "execution_count": null,
   "id": "f7b8f130",
   "metadata": {},
   "outputs": [],
   "source": [
    "# Python is a interpreted language. It will excute code line by line. \n",
    "#To open the python files we need python interpretor else we will not be able to open the python files."
   ]
  },
  {
   "cell_type": "code",
   "execution_count": null,
   "id": "3f0e864a",
   "metadata": {},
   "outputs": [],
   "source": [
    "#Q13. Try to write a usecase of python with your understanding"
   ]
  },
  {
   "cell_type": "code",
   "execution_count": null,
   "id": "1ba424ef",
   "metadata": {},
   "outputs": [],
   "source": [
    "# Python is used for web development, game development, data analysis, data visualization, machine learning and many more. \n",
    "#For example with the help of python we can edit a large data with easy and can also present the data in good pictures for easy \n",
    "#understanding. we can use python for machine learning where we train machines to take decisions or to predict things.\n",
    "#we can also to high levels of calculations with easy using python."
   ]
  }
 ],
 "metadata": {
  "kernelspec": {
   "display_name": "Python 3 (ipykernel)",
   "language": "python",
   "name": "python3"
  },
  "language_info": {
   "codemirror_mode": {
    "name": "ipython",
    "version": 3
   },
   "file_extension": ".py",
   "mimetype": "text/x-python",
   "name": "python",
   "nbconvert_exporter": "python",
   "pygments_lexer": "ipython3",
   "version": "3.9.7"
  }
 },
 "nbformat": 4,
 "nbformat_minor": 5
}
